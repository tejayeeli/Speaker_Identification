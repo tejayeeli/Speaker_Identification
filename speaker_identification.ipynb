{
  "cells": [
    {
      "cell_type": "code",
      "execution_count": null,
      "metadata": {
        "id": "FaYnwuY0QnM3"
      },
      "outputs": [],
      "source": [
        "import os\n",
        "import shutil\n",
        "import numpy as np\n",
        "import tensorflow as tf\n",
        "from tensorflow import keras\n",
        "from pathlib import Path\n",
        "from IPython.display import display, Audio"
      ]
    },
    {
      "cell_type": "code",
      "execution_count": null,
      "metadata": {
        "id": "YCIjQQzgQwbM"
      },
      "outputs": [],
      "source": [
        "DATASET_ROOT = \"/content/drive/MyDrive/16000_pcm_speeches\"\n",
        "\n",
        "AUDIO_SUBFOLDER = \"audio\"\n",
        "NOISE_SUBFOLDER = \"noise\"\n",
        "\n",
        "DATASET_AUDIO_PATH = os.path.join(DATASET_ROOT, AUDIO_SUBFOLDER)\n",
        "DATASET_NOISE_PATH = os.path.join(DATASET_ROOT, NOISE_SUBFOLDER)"
      ]
    },
    {
      "cell_type": "code",
      "execution_count": null,
      "metadata": {
        "id": "TPdBEkweQ0fM"
      },
      "outputs": [],
      "source": [
        "VALID_SPLIT = 0.1\n",
        "\n",
        "SHUFFLE_SEED = 43\n",
        "\n",
        "SAMPLING_RATE = 16000\n",
        "\n",
        "SCALE = 0.5\n",
        "\n",
        "BATCH_SIZE = 128\n",
        "\n",
        "EPOCHS = 5"
      ]
    },
    {
      "cell_type": "code",
      "execution_count": null,
      "metadata": {
        "id": "5ZqM9u5lQ3VD"
      },
      "outputs": [],
      "source": [
        "# If folder audio, does not exist, create it, otherwise do nothing\n",
        "if os.path.exists(DATASET_AUDIO_PATH) is False:\n",
        "    os.makedirs(DATASET_AUDIO_PATH)\n",
        "\n",
        "# If folder noise, does not exist, create it, otherwise do nothing\n",
        "if os.path.exists(DATASET_NOISE_PATH) is False:\n",
        "    os.makedirs(DATASET_NOISE_PATH)\n",
        "\n",
        "for folder in os.listdir(DATASET_ROOT):\n",
        "    if os.path.isdir(os.path.join(DATASET_ROOT, folder)):\n",
        "        if folder in [AUDIO_SUBFOLDER, NOISE_SUBFOLDER]:\n",
        "            # If folder is audio or noise, do nothing\n",
        "            continue\n",
        "        elif folder in [\"other\", \"_background_noise_\"]:\n",
        "            # If folder is one of the folders that contains noise samples move it to the noise folder\n",
        "            shutil.move(\n",
        "                os.path.join(DATASET_ROOT, folder),\n",
        "                os.path.join(DATASET_NOISE_PATH, folder),\n",
        "            )\n",
        "        else:\n",
        "            # Otherwise, it should be a speaker folder, then move it to audio folder\n",
        "            shutil.move(\n",
        "                os.path.join(DATASET_ROOT, folder),\n",
        "                os.path.join(DATASET_AUDIO_PATH, folder),\n",
        "            )"
      ]
    },
    {
      "cell_type": "code",
      "execution_count": null,
      "metadata": {
        "colab": {
          "base_uri": "https://localhost:8080/"
        },
        "id": "d7QmmkoPRJFM",
        "outputId": "9d9f56e3-bfc4-43b1-d277-72f9eb6dccdd"
      },
      "outputs": [
        {
          "output_type": "stream",
          "name": "stdout",
          "text": [
            "Found 6 files belonging to 2 directories\n"
          ]
        }
      ],
      "source": [
        "# Get the list of all noise files\n",
        "noise_paths = []\n",
        "for subdir in os.listdir(DATASET_NOISE_PATH):\n",
        "    subdir_path = Path(DATASET_NOISE_PATH) / subdir\n",
        "    if os.path.isdir(subdir_path):\n",
        "        noise_paths += [\n",
        "            os.path.join(subdir_path, filepath)\n",
        "            for filepath in os.listdir(subdir_path)\n",
        "            if filepath.endswith(\".wav\")\n",
        "        ]\n",
        "\n",
        "print(\"Found {} files belonging to {} directories\".format(len(noise_paths), len(os.listdir(DATASET_NOISE_PATH))))"
      ]
    },
    {
      "cell_type": "code",
      "execution_count": null,
      "metadata": {
        "colab": {
          "base_uri": "https://localhost:8080/"
        },
        "id": "tMrbDrMERLQU",
        "outputId": "43c4506a-71df-46ed-e12d-5d8026699e39"
      },
      "outputs": [
        {
          "output_type": "stream",
          "name": "stdout",
          "text": [
            "6 noise files were split into 354 noise samples where each is 0 sec. long\n"
          ]
        }
      ],
      "source": [
        "command = (\n",
        "    \"for dir in `ls -1 \" + DATASET_NOISE_PATH + \"`; do \"\n",
        "    \"for file in `ls -1 \" + DATASET_NOISE_PATH + \"/$dir/*.wav`; do \"\n",
        "    \"sample_rate=`ffprobe -hide_banner -loglevel panic -show_streams \"\n",
        "    \"$file | grep sample_rate | cut -f2 -d=`; \"\n",
        "    \"if [ $sample_rate -ne 16000 ]; then \"\n",
        "    \"ffmpeg -hide_banner -loglevel panic -y \"\n",
        "    \"-i $file -ar 16000 temp.wav; \"\n",
        "    \"mv temp.wav $file; \"\n",
        "    \"fi; done; done\"\n",
        ")\n",
        "os.system(command)\n",
        "\n",
        "# Split noise into chunks of 16,000 steps each\n",
        "def load_noise_sample(path):\n",
        "    sample, sampling_rate = tf.audio.decode_wav(\n",
        "        tf.io.read_file(path), desired_channels=1\n",
        "    )\n",
        "    if sampling_rate == SAMPLING_RATE:\n",
        "        # Number of slices of 16000 each that can be generated from the noise sample\n",
        "        slices = int(sample.shape[0] / SAMPLING_RATE)\n",
        "        sample = tf.split(sample[: slices * SAMPLING_RATE], slices)\n",
        "        return sample\n",
        "    else:\n",
        "        print(\"Sampling rate for {} is incorrect. Ignoring it\".format(path))\n",
        "        return None\n",
        "\n",
        "\n",
        "noises = []\n",
        "for path in noise_paths:\n",
        "    sample = load_noise_sample(path)\n",
        "    if sample:\n",
        "        noises.extend(sample)\n",
        "noises = tf.stack(noises)\n",
        "\n",
        "print(\n",
        "    \"{} noise files were split into {} noise samples where each is {} sec. long\".format(\n",
        "        len(noise_paths), noises.shape[0], noises.shape[0] // SAMPLING_RATE\n",
        "    )\n",
        ")"
      ]
    },
    {
      "cell_type": "code",
      "execution_count": null,
      "metadata": {
        "id": "-IJaWedVRRCM"
      },
      "outputs": [],
      "source": [
        "def paths_and_labels_to_dataset(audio_paths, labels):\n",
        "    \"\"\"Constructs a dataset of audios and labels.\"\"\"\n",
        "    path_ds = tf.data.Dataset.from_tensor_slices(audio_paths)\n",
        "    audio_ds = path_ds.map(lambda x: path_to_audio(x))\n",
        "    label_ds = tf.data.Dataset.from_tensor_slices(labels)\n",
        "    return tf.data.Dataset.zip((audio_ds, label_ds))\n",
        "\n",
        "\n",
        "def path_to_audio(path):\n",
        "    \"\"\"Reads and decodes an audio file.\"\"\"\n",
        "    audio = tf.io.read_file(path)\n",
        "    audio, _ = tf.audio.decode_wav(audio, 1, SAMPLING_RATE)\n",
        "    return audio\n"
      ]
    },
    {
      "cell_type": "code",
      "execution_count": null,
      "metadata": {
        "id": "q_1QtuKARdyT"
      },
      "outputs": [],
      "source": [
        "def add_noise(audio, noises=None, scale=0.5):\n",
        "    if noises is not None:\n",
        "        # Create a random tensor of the same size as audio ranging from\n",
        "        # 0 to the number of noise stream samples that we have.\n",
        "        tf_rnd = tf.random.uniform(\n",
        "            (tf.shape(audio)[0],), 0, noises.shape[0], dtype=tf.int32\n",
        "        )\n",
        "        noise = tf.gather(noises, tf_rnd, axis=0)\n",
        "\n",
        "        # Get the amplitude proportion between the audio and the noise\n",
        "        prop = tf.math.reduce_max(audio, axis=1) / tf.math.reduce_max(noise, axis=1)\n",
        "        prop = tf.repeat(tf.expand_dims(prop, axis=1), tf.shape(audio)[1], axis=1)\n",
        "\n",
        "        # Adding the rescaled noise to audio\n",
        "        audio = audio + noise * prop * scale\n",
        "\n",
        "    return audio\n"
      ]
    },
    {
      "cell_type": "code",
      "execution_count": null,
      "metadata": {
        "id": "4sKlNvNNRktL"
      },
      "outputs": [],
      "source": [
        "def audio_to_fft(audio):\n",
        "    # Since tf.signal.fft applies FFT on the innermost dimension,\n",
        "    # we need to squeeze the dimensions and then expand them again\n",
        "    # after FFT\n",
        "    audio = tf.squeeze(audio, axis=-1)\n",
        "    fft = tf.signal.fft(\n",
        "        tf.cast(tf.complex(real=audio, imag=tf.zeros_like(audio)), tf.complex64)\n",
        "    )\n",
        "    fft = tf.expand_dims(fft, axis=-1)\n",
        "\n",
        "    # Return the absolute value of the first half of the FFT\n",
        "    # which represents the positive frequencies\n",
        "    return tf.math.abs(fft[:, : (audio.shape[1] // 2), :])\n"
      ]
    },
    {
      "cell_type": "code",
      "execution_count": null,
      "metadata": {
        "colab": {
          "base_uri": "https://localhost:8080/"
        },
        "id": "p7lFKFDoRnWz",
        "outputId": "e9dcf2df-7fab-4979-e302-a7a703616f4f"
      },
      "outputs": [
        {
          "output_type": "stream",
          "name": "stdout",
          "text": [
            "Our class names: ['Julia_Gillard', 'Nelson_Mandela', 'Jens_Stoltenberg', 'Magaret_Tarcher', 'Benjamin_Netanyau']\n",
            "Processing speaker Julia_Gillard\n",
            "Processing speaker Nelson_Mandela\n",
            "Processing speaker Jens_Stoltenberg\n",
            "Processing speaker Magaret_Tarcher\n",
            "Processing speaker Benjamin_Netanyau\n",
            "Found 7501 files belonging to 5 classes.\n"
          ]
        }
      ],
      "source": [
        "# Get the list of audio file paths along with their corresponding labels\n",
        "\n",
        "class_names = os.listdir(DATASET_AUDIO_PATH)\n",
        "print(\"Our class names: {}\".format(class_names,))\n",
        "\n",
        "audio_paths = []\n",
        "labels = []\n",
        "for label, name in enumerate(class_names):\n",
        "    print(\"Processing speaker {}\".format(name,))\n",
        "    dir_path = Path(DATASET_AUDIO_PATH) / name\n",
        "    speaker_sample_paths = [\n",
        "        os.path.join(dir_path, filepath)\n",
        "        for filepath in os.listdir(dir_path)\n",
        "        if filepath.endswith(\".wav\")\n",
        "    ]\n",
        "    audio_paths += speaker_sample_paths\n",
        "    labels += [label] * len(speaker_sample_paths)\n",
        "\n",
        "print(\n",
        "    \"Found {} files belonging to {} classes.\".format(len(audio_paths), len(class_names))\n",
        ")"
      ]
    },
    {
      "cell_type": "code",
      "execution_count": null,
      "metadata": {
        "colab": {
          "base_uri": "https://localhost:8080/"
        },
        "id": "BuaRTU0QRt7y",
        "outputId": "c928b101-2068-434b-acf8-8ae9c169e39c"
      },
      "outputs": [
        {
          "output_type": "stream",
          "name": "stdout",
          "text": [
            "Using 6751 files for training.\n",
            "Using 750 files for validation.\n"
          ]
        }
      ],
      "source": [
        "# Shuffle\n",
        "rng = np.random.RandomState(SHUFFLE_SEED)\n",
        "rng.shuffle(audio_paths)\n",
        "rng = np.random.RandomState(SHUFFLE_SEED)\n",
        "rng.shuffle(labels)\n",
        "\n",
        "# Split into training and validation\n",
        "num_val_samples = int(VALID_SPLIT * len(audio_paths))\n",
        "print(\"Using {} files for training.\".format(len(audio_paths) - num_val_samples))\n",
        "train_audio_paths = audio_paths[:-num_val_samples]\n",
        "train_labels = labels[:-num_val_samples]\n",
        "\n",
        "print(\"Using {} files for validation.\".format(num_val_samples))\n",
        "valid_audio_paths = audio_paths[-num_val_samples:]\n",
        "valid_labels = labels[-num_val_samples:]"
      ]
    },
    {
      "cell_type": "code",
      "execution_count": null,
      "metadata": {
        "id": "bXXWYcFPR07j"
      },
      "outputs": [],
      "source": [
        "# Create 2 datasets, one for training and the other for validation\n",
        "train_ds = paths_and_labels_to_dataset(train_audio_paths, train_labels)\n",
        "train_ds = train_ds.shuffle(buffer_size=BATCH_SIZE * 8, seed=SHUFFLE_SEED).batch(\n",
        "    BATCH_SIZE\n",
        ")\n",
        "\n",
        "valid_ds = paths_and_labels_to_dataset(valid_audio_paths, valid_labels)\n",
        "valid_ds = valid_ds.shuffle(buffer_size=32 * 8, seed=SHUFFLE_SEED).batch(32)\n",
        "\n",
        "\n",
        "# Add noise to the training set\n",
        "train_ds = train_ds.map(\n",
        "    lambda x, y: (add_noise(x, noises, scale=SCALE), y),\n",
        "    num_parallel_calls=tf.data.experimental.AUTOTUNE,\n",
        ")\n",
        "\n",
        "# Transform audio wave to the frequency domain using `audio_to_fft`\n",
        "train_ds = train_ds.map(\n",
        "    lambda x, y: (audio_to_fft(x), y), num_parallel_calls=tf.data.experimental.AUTOTUNE\n",
        ")\n",
        "train_ds = train_ds.prefetch(tf.data.experimental.AUTOTUNE)\n",
        "\n",
        "valid_ds = valid_ds.map(\n",
        "    lambda x, y: (audio_to_fft(x), y), num_parallel_calls=tf.data.experimental.AUTOTUNE\n",
        ")\n",
        "valid_ds = valid_ds.prefetch(tf.data.experimental.AUTOTUNE)"
      ]
    },
    {
      "cell_type": "code",
      "execution_count": null,
      "metadata": {
        "id": "5xNKF4I_R5F8"
      },
      "outputs": [],
      "source": [
        "def residual_block(x, filters, conv_num = 3, activation = \"relu\"):\n",
        "    s = keras.layers.Conv1D(filters, 1, padding = \"same\")(x)\n",
        "\n",
        "    for i in range(conv_num - 1):\n",
        "        x = keras.layers.Conv1D(filters, 3, padding = \"same\")(x)\n",
        "        x = keras.layers.Activation(activation)(x)\n",
        "\n",
        "    x = keras.layers.Conv1D(filters, 3, padding = \"same\")(x)\n",
        "    x = keras.layers.Add()([x, s])\n",
        "    x = keras.layers.Activation(activation)(x)\n",
        "\n",
        "    return keras.layers.MaxPool1D(pool_size = 2, strides = 2)(x)\n"
      ]
    },
    {
      "cell_type": "code",
      "execution_count": null,
      "metadata": {
        "colab": {
          "base_uri": "https://localhost:8080/"
        },
        "id": "3RqKhUecTPa7",
        "outputId": "2ac74b79-1b78-4854-92b2-5b57ecc590ea"
      },
      "outputs": [
        {
          "output_type": "stream",
          "name": "stdout",
          "text": [
            "Model: \"model\"\n",
            "__________________________________________________________________________________________________\n",
            " Layer (type)                   Output Shape         Param #     Connected to                     \n",
            "==================================================================================================\n",
            " input (InputLayer)             [(None, 8000, 1)]    0           []                               \n",
            "                                                                                                  \n",
            " conv1d_15 (Conv1D)             (None, 8000, 128)    512         ['input[0][0]']                  \n",
            "                                                                                                  \n",
            " activation_10 (Activation)     (None, 8000, 128)    0           ['conv1d_15[0][0]']              \n",
            "                                                                                                  \n",
            " conv1d_16 (Conv1D)             (None, 8000, 128)    49280       ['activation_10[0][0]']          \n",
            "                                                                                                  \n",
            " activation_11 (Activation)     (None, 8000, 128)    0           ['conv1d_16[0][0]']              \n",
            "                                                                                                  \n",
            " conv1d_17 (Conv1D)             (None, 8000, 128)    49280       ['activation_11[0][0]']          \n",
            "                                                                                                  \n",
            " conv1d_14 (Conv1D)             (None, 8000, 128)    256         ['input[0][0]']                  \n",
            "                                                                                                  \n",
            " add_4 (Add)                    (None, 8000, 128)    0           ['conv1d_17[0][0]',              \n",
            "                                                                  'conv1d_14[0][0]']              \n",
            "                                                                                                  \n",
            " activation_12 (Activation)     (None, 8000, 128)    0           ['add_4[0][0]']                  \n",
            "                                                                                                  \n",
            " max_pooling1d_4 (MaxPooling1D)  (None, 4000, 128)   0           ['activation_12[0][0]']          \n",
            "                                                                                                  \n",
            " average_pooling1d (AveragePool  (None, 1333, 128)   0           ['max_pooling1d_4[0][0]']        \n",
            " ing1D)                                                                                           \n",
            "                                                                                                  \n",
            " flatten (Flatten)              (None, 170624)       0           ['average_pooling1d[0][0]']      \n",
            "                                                                                                  \n",
            " dense (Dense)                  (None, 256)          43680000    ['flatten[0][0]']                \n",
            "                                                                                                  \n",
            " dense_1 (Dense)                (None, 128)          32896       ['dense[0][0]']                  \n",
            "                                                                                                  \n",
            " output (Dense)                 (None, 5)            645         ['dense_1[0][0]']                \n",
            "                                                                                                  \n",
            "==================================================================================================\n",
            "Total params: 43,812,869\n",
            "Trainable params: 43,812,869\n",
            "Non-trainable params: 0\n",
            "__________________________________________________________________________________________________\n"
          ]
        }
      ],
      "source": [
        "    def build_model(input_shape, num_classes):\n",
        "      inputs = keras.layers.Input(shape = input_shape, name = \"input\")\n",
        "\n",
        "      x = residual_block(inputs, 16, 2)\n",
        "      x = residual_block(inputs, 32, 2)\n",
        "      x = residual_block(inputs, 64, 3)\n",
        "      x = residual_block(inputs, 128, 3)\n",
        "      x = residual_block(inputs, 128, 3)\n",
        "      x = keras.layers.AveragePooling1D(pool_size=3, strides=3)(x)\n",
        "      x = keras.layers.Flatten()(x)\n",
        "      x = keras.layers.Dense(256, activation=\"relu\")(x)\n",
        "      x = keras.layers.Dense(128, activation=\"relu\")(x)\n",
        "\n",
        "      outputs = keras.layers.Dense(num_classes, activation = \"softmax\", name = \"output\")(x)\n",
        "\n",
        "      return keras.models.Model(inputs = inputs, outputs = outputs)\n",
        "\n",
        "model = build_model((SAMPLING_RATE // 2, 1), len(class_names))\n",
        "\n",
        "model.summary()\n",
        "\n",
        "model.compile(optimizer=\"Adam\", loss=\"sparse_categorical_crossentropy\", metrics=[\"accuracy\"])\n",
        "\n",
        "model_save_filename = \"model.h5\"\n",
        "\n",
        "earlystopping_cb = keras.callbacks.EarlyStopping(patience=10, restore_best_weights=True)\n",
        "\n",
        "mdlcheckpoint_cb = keras.callbacks.ModelCheckpoint(model_save_filename, monitor=\"val_accuracy\", save_best_only=True)"
      ]
    },
    {
      "cell_type": "code",
      "execution_count": null,
      "metadata": {
        "colab": {
          "base_uri": "https://localhost:8080/"
        },
        "id": "VJL6iHxhTrcb",
        "outputId": "5958d548-9dd0-4a66-e9f4-882f5c76bf13"
      },
      "outputs": [
        {
          "output_type": "stream",
          "name": "stdout",
          "text": [
            "Epoch 1/5\n",
            "53/53 [==============================] - 1216s 23s/step - loss: 26.0218 - accuracy: 0.5291 - val_loss: 0.2997 - val_accuracy: 0.8867\n",
            "Epoch 2/5\n",
            "53/53 [==============================] - 1077s 20s/step - loss: 0.2544 - accuracy: 0.9065 - val_loss: 0.1936 - val_accuracy: 0.9253\n",
            "Epoch 3/5\n",
            "53/53 [==============================] - 1104s 21s/step - loss: 0.1518 - accuracy: 0.9422 - val_loss: 0.1178 - val_accuracy: 0.9560\n",
            "Epoch 4/5\n",
            "53/53 [==============================] - 1059s 20s/step - loss: 0.1069 - accuracy: 0.9572 - val_loss: 0.0604 - val_accuracy: 0.9760\n",
            "Epoch 5/5\n",
            "53/53 [==============================] - 1049s 20s/step - loss: 0.0885 - accuracy: 0.9661 - val_loss: 0.0715 - val_accuracy: 0.9760\n"
          ]
        }
      ],
      "source": [
        "history = model.fit(\n",
        "    train_ds,\n",
        "    epochs=EPOCHS,\n",
        "    validation_data=valid_ds,\n",
        "    callbacks=[earlystopping_cb, mdlcheckpoint_cb],\n",
        ")"
      ]
    },
    {
      "cell_type": "code",
      "source": [
        "# saving the standard h5 model\n",
        "model.save('model.h5')\n",
        "\n",
        "# saving if the user want to use for edge devices using tflite\n",
        "tf.saved_model.save(model, \"model_keras_tflite\")\n",
        "# zipping the folder\n",
        "!zip -r model_keras_tflite.zip model_keras_tflite/\n",
        "# removing the folder\n",
        "!rm -rf model_keras_tflite/"
      ],
      "metadata": {
        "colab": {
          "base_uri": "https://localhost:8080/"
        },
        "id": "-ju1VMx7SP8t",
        "outputId": "31926d36-6bad-4632-89c0-8e912c0e31c6"
      },
      "execution_count": null,
      "outputs": [
        {
          "output_type": "stream",
          "name": "stderr",
          "text": [
            "WARNING:absl:Found untraced functions such as _jit_compiled_convolution_op, _jit_compiled_convolution_op, _jit_compiled_convolution_op, _jit_compiled_convolution_op, _update_step_xla while saving (showing 5 of 5). These functions will not be directly callable after loading.\n"
          ]
        },
        {
          "output_type": "stream",
          "name": "stdout",
          "text": [
            "  adding: model_keras_tflite/ (stored 0%)\n",
            "  adding: model_keras_tflite/assets/ (stored 0%)\n",
            "  adding: model_keras_tflite/saved_model.pb (deflated 89%)\n",
            "  adding: model_keras_tflite/fingerprint.pb (stored 0%)\n",
            "  adding: model_keras_tflite/variables/ (stored 0%)\n",
            "  adding: model_keras_tflite/variables/variables.index (deflated 67%)\n",
            "  adding: model_keras_tflite/variables/variables.data-00000-of-00001 (deflated 11%)\n"
          ]
        }
      ]
    },
    {
      "cell_type": "code",
      "source": [
        "print(model.evaluate(valid_ds))"
      ],
      "metadata": {
        "colab": {
          "base_uri": "https://localhost:8080/"
        },
        "id": "TajB_R0lSi6k",
        "outputId": "ea88d53d-b22d-44a0-e346-76a9531ed483"
      },
      "execution_count": null,
      "outputs": [
        {
          "output_type": "stream",
          "name": "stdout",
          "text": [
            "24/24 [==============================] - 40s 2s/step - loss: 0.0715 - accuracy: 0.9760\n",
            "[0.07153034210205078, 0.9760000109672546]\n"
          ]
        }
      ]
    },
    {
      "cell_type": "code",
      "source": [
        "SAMPLES_TO_DISPLAY = 10\n",
        "\n",
        "test_ds = paths_and_labels_to_dataset(valid_audio_paths, valid_labels)\n",
        "test_ds = test_ds.shuffle(buffer_size=BATCH_SIZE * 8, seed=SHUFFLE_SEED).batch(\n",
        "    BATCH_SIZE\n",
        ")\n",
        "\n",
        "test_ds = test_ds.map(lambda x, y: (add_noise(x, noises, scale=SCALE), y))\n",
        "\n",
        "for audios, labels in test_ds.take(1):\n",
        "    # Get the signal FFT\n",
        "    ffts = audio_to_fft(audios)\n",
        "    # Predict\n",
        "    y_pred = model.predict(ffts)\n",
        "    # Take random samples\n",
        "    rnd = np.random.randint(0, BATCH_SIZE, SAMPLES_TO_DISPLAY)\n",
        "    audios = audios.numpy()[rnd, :, :]\n",
        "    labels = labels.numpy()[rnd]\n",
        "    y_pred = np.argmax(y_pred, axis=-1)[rnd]\n",
        "\n",
        "    for index in range(SAMPLES_TO_DISPLAY):\n",
        "        # For every sample, print the true and predicted label\n",
        "        # as well as run the voice with the noise\n",
        "        print(\n",
        "            \"Speaker:\\33{} {}\\33[0m\\tPredicted:\\33{} {}\\33[0m\".format(\n",
        "                \"[92m\" if labels[index] == y_pred[index] else \"[91m\",\n",
        "                class_names[labels[index]],\n",
        "                \"[92m\" if labels[index] == y_pred[index] else \"[91m\",\n",
        "                class_names[y_pred[index]],\n",
        "            )\n",
        "        )\n",
        "        if labels[index] ==y_pred[index]:\n",
        "            print(\"Welcome\")\n",
        "        else:\n",
        "            print(\"Sorry\")\n",
        "        print(\"The speaker is\" if labels[index] == y_pred[index] else \"\", class_names[y_pred[index]])"
      ],
      "metadata": {
        "colab": {
          "base_uri": "https://localhost:8080/"
        },
        "id": "zlOYjc85SlJM",
        "outputId": "efb12cdd-966a-47dc-b5c7-db05c0ecd2e8"
      },
      "execution_count": null,
      "outputs": [
        {
          "output_type": "stream",
          "name": "stdout",
          "text": [
            "4/4 [==============================] - 5s 1s/step\n",
            "Speaker:\u001b[92m Magaret_Tarcher\u001b[0m\tPredicted:\u001b[92m Magaret_Tarcher\u001b[0m\n",
            "Welcome\n",
            "The speaker is Magaret_Tarcher\n",
            "Speaker:\u001b[92m Jens_Stoltenberg\u001b[0m\tPredicted:\u001b[92m Jens_Stoltenberg\u001b[0m\n",
            "Welcome\n",
            "The speaker is Jens_Stoltenberg\n",
            "Speaker:\u001b[92m Julia_Gillard\u001b[0m\tPredicted:\u001b[92m Julia_Gillard\u001b[0m\n",
            "Welcome\n",
            "The speaker is Julia_Gillard\n",
            "Speaker:\u001b[92m Magaret_Tarcher\u001b[0m\tPredicted:\u001b[92m Magaret_Tarcher\u001b[0m\n",
            "Welcome\n",
            "The speaker is Magaret_Tarcher\n",
            "Speaker:\u001b[92m Magaret_Tarcher\u001b[0m\tPredicted:\u001b[92m Magaret_Tarcher\u001b[0m\n",
            "Welcome\n",
            "The speaker is Magaret_Tarcher\n",
            "Speaker:\u001b[92m Nelson_Mandela\u001b[0m\tPredicted:\u001b[92m Nelson_Mandela\u001b[0m\n",
            "Welcome\n",
            "The speaker is Nelson_Mandela\n",
            "Speaker:\u001b[92m Benjamin_Netanyau\u001b[0m\tPredicted:\u001b[92m Benjamin_Netanyau\u001b[0m\n",
            "Welcome\n",
            "The speaker is Benjamin_Netanyau\n",
            "Speaker:\u001b[92m Nelson_Mandela\u001b[0m\tPredicted:\u001b[92m Nelson_Mandela\u001b[0m\n",
            "Welcome\n",
            "The speaker is Nelson_Mandela\n",
            "Speaker:\u001b[92m Julia_Gillard\u001b[0m\tPredicted:\u001b[92m Julia_Gillard\u001b[0m\n",
            "Welcome\n",
            "The speaker is Julia_Gillard\n",
            "Speaker:\u001b[92m Magaret_Tarcher\u001b[0m\tPredicted:\u001b[92m Magaret_Tarcher\u001b[0m\n",
            "Welcome\n",
            "The speaker is Magaret_Tarcher\n"
          ]
        }
      ]
    },
    {
      "cell_type": "code",
      "source": [
        "#Predcit the speaker from the test dataset for real time pred\n",
        "def paths_to_dataset(audio_paths):\n",
        "\t\"\"\"Constructs a dataset of audios and labels.\"\"\"\n",
        "\tpath_ds = tf.data.Dataset.from_tensor_slices(audio_paths)\n",
        "\t# audio_ds = path_ds.map(lambda x: path_to_audio(x))\n",
        "\treturn tf.data.Dataset.zip((path_ds))\n",
        "def predict(path, labels):\n",
        "\ttest = paths_and_labels_to_dataset(path, labels)\n",
        "\n",
        "\n",
        "\ttest = test.shuffle(buffer_size=BATCH_SIZE * 8, seed=SHUFFLE_SEED).batch(\n",
        "\tBATCH_SIZE\n",
        "\t)\n",
        "\ttest = test.prefetch(tf.data.experimental.AUTOTUNE)\n",
        "\n",
        "\n",
        "\ttest = test.map(lambda x, y: (add_noise(x, noises, scale=SCALE), y))\n",
        "\n",
        "\tfor audios, labels in test.take(1):\n",
        "\t\t# Get the signal FFT\n",
        "\t\tffts = audio_to_fft(audios)\n",
        "\t\t# Predict\n",
        "\t\ty_pred = model.predict(ffts)\n",
        "\t\t# Take random samples\n",
        "\t\trnd = np.random.randint(0, 1, 1)\n",
        "\t\taudios = audios.numpy()[rnd, :]\n",
        "\t\tlabels = labels.numpy()[rnd]\n",
        "\t\ty_pred = np.argmax(y_pred, axis=-1)[rnd]\n",
        "\n",
        "\t\tfor index in range(1):\n",
        "\t\t\t# For every sample, print the true and predicted label\n",
        "\t\t\t# as well as run the voice with the noise\n",
        "\t\t\tprint(\n",
        "\t\t\t\t\"Speaker:\\33{} {}\\33[0m\\tPredicted:\\33{} {}\\33[0m\".format(\n",
        "\t\t\t\t\t\"[92m\",y_pred[index],\n",
        "\t\t\t\t\t\"[92m\", y_pred[index]\n",
        "\t\t\t\t)\n",
        "\t\t\t)\n",
        "\t\t\tif class_names[y_pred[index]] == \"Julia_Gillard\":\n",
        "\t\t\t\tprint(\"Welcome\")\n",
        "\t\t\telse:\n",
        "\t\t\t\tprint(\"Sorry\")\n",
        "\t\t\tprint(class_names[y_pred[index]])\n",
        "\t\t\t# display(Audio(audios[index, :, :].squeeze(), rate=SAMPLING_RATE))\n"
      ],
      "metadata": {
        "id": "A9gcVMWtTAce"
      },
      "execution_count": null,
      "outputs": []
    },
    {
      "cell_type": "code",
      "source": [
        "# predict(\"content/1000.wav\")\n",
        "\n",
        "path = [\"/content/drive/MyDrive/16000_pcm_speeches/audio/Benjamin_Netanyau/100.wav\"]\n",
        "labels = [\"unknown\"]\n",
        "\n",
        "try:\n",
        "      predict(path, labels)\n",
        "except:\n",
        "    print(\"Error! Check if the file correctly passed or not!\")"
      ],
      "metadata": {
        "colab": {
          "base_uri": "https://localhost:8080/"
        },
        "id": "xzO_RgHwTL59",
        "outputId": "b328d6da-1f31-4126-a91a-b9df50ec89cf"
      },
      "execution_count": null,
      "outputs": [
        {
          "output_type": "stream",
          "name": "stdout",
          "text": [
            "1/1 [==============================] - 0s 188ms/step\n",
            "Speaker:\u001b[92m 4\u001b[0m\tPredicted:\u001b[92m 4\u001b[0m\n",
            "Sorry\n",
            "Benjamin_Netanyau\n"
          ]
        }
      ]
    }
  ],
  "metadata": {
    "colab": {
      "provenance": [],
      "mount_file_id": "1MQeERLDHfZFYORKnQJPVcji9dRQN0PRP",
      "authorship_tag": "ABX9TyMTfX+bMcV6YSelATMQ1yoC"
    },
    "kernelspec": {
      "display_name": "Python 3",
      "name": "python3"
    },
    "language_info": {
      "name": "python"
    }
  },
  "nbformat": 4,
  "nbformat_minor": 0
}